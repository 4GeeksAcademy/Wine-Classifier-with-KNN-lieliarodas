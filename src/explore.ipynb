{
    "cells": [
        {
            "cell_type": "markdown",
            "metadata": {},
            "source": [
                "# **Google Play Store Reviews**\n",
                "\n",
                "**Problem Statement:**\n",
                "\n",
                "The goal of this project is to build a Wine Classifier using K-Nearest Neighbors (KNN) to predict the quality of red wine based on its chemical properties. By analyzing features such as acidity, sugar, pH, and alcohol content, the model aims to classify wines into low, medium, or high quality. This can help identify sommelier-worthy wines using AI."
            ]
        },
        {
            "cell_type": "markdown",
            "metadata": {},
            "source": [
                "###  **Importing Libraries**"
            ]
        },
        {
            "cell_type": "code",
            "execution_count": null,
            "metadata": {},
            "outputs": [],
            "source": [
                "import pandas as pd\n",
                "from sklearn.model_selection import train_test_split\n",
                "from sklearn.preprocessing import StandardScaler\n",
                "from sklearn.neighbors import KNeighborsClassifier\n",
                "import pickle\n",
                "from sklearn.metrics import accuracy_score, confusion_matrix, classification_report\n",
                "import matplotlib.pyplot as plt\n",
                "import seaborn as sns"
            ]
        },
        {
            "cell_type": "markdown",
            "metadata": {},
            "source": [
                "###  **Problem statement and data collection**"
            ]
        },
        {
            "cell_type": "code",
            "execution_count": 12,
            "metadata": {},
            "outputs": [
                {
                    "data": {
                        "text/html": [
                            "<div>\n",
                            "<style scoped>\n",
                            "    .dataframe tbody tr th:only-of-type {\n",
                            "        vertical-align: middle;\n",
                            "    }\n",
                            "\n",
                            "    .dataframe tbody tr th {\n",
                            "        vertical-align: top;\n",
                            "    }\n",
                            "\n",
                            "    .dataframe thead th {\n",
                            "        text-align: right;\n",
                            "    }\n",
                            "</style>\n",
                            "<table border=\"1\" class=\"dataframe\">\n",
                            "  <thead>\n",
                            "    <tr style=\"text-align: right;\">\n",
                            "      <th></th>\n",
                            "      <th>fixed acidity</th>\n",
                            "      <th>volatile acidity</th>\n",
                            "      <th>citric acid</th>\n",
                            "      <th>residual sugar</th>\n",
                            "      <th>chlorides</th>\n",
                            "      <th>free sulfur dioxide</th>\n",
                            "      <th>total sulfur dioxide</th>\n",
                            "      <th>density</th>\n",
                            "      <th>pH</th>\n",
                            "      <th>sulphates</th>\n",
                            "      <th>alcohol</th>\n",
                            "      <th>quality</th>\n",
                            "    </tr>\n",
                            "  </thead>\n",
                            "  <tbody>\n",
                            "    <tr>\n",
                            "      <th>0</th>\n",
                            "      <td>7.4</td>\n",
                            "      <td>0.70</td>\n",
                            "      <td>0.00</td>\n",
                            "      <td>1.9</td>\n",
                            "      <td>0.076</td>\n",
                            "      <td>11.0</td>\n",
                            "      <td>34.0</td>\n",
                            "      <td>0.9978</td>\n",
                            "      <td>3.51</td>\n",
                            "      <td>0.56</td>\n",
                            "      <td>9.4</td>\n",
                            "      <td>5</td>\n",
                            "    </tr>\n",
                            "    <tr>\n",
                            "      <th>1</th>\n",
                            "      <td>7.8</td>\n",
                            "      <td>0.88</td>\n",
                            "      <td>0.00</td>\n",
                            "      <td>2.6</td>\n",
                            "      <td>0.098</td>\n",
                            "      <td>25.0</td>\n",
                            "      <td>67.0</td>\n",
                            "      <td>0.9968</td>\n",
                            "      <td>3.20</td>\n",
                            "      <td>0.68</td>\n",
                            "      <td>9.8</td>\n",
                            "      <td>5</td>\n",
                            "    </tr>\n",
                            "    <tr>\n",
                            "      <th>2</th>\n",
                            "      <td>7.8</td>\n",
                            "      <td>0.76</td>\n",
                            "      <td>0.04</td>\n",
                            "      <td>2.3</td>\n",
                            "      <td>0.092</td>\n",
                            "      <td>15.0</td>\n",
                            "      <td>54.0</td>\n",
                            "      <td>0.9970</td>\n",
                            "      <td>3.26</td>\n",
                            "      <td>0.65</td>\n",
                            "      <td>9.8</td>\n",
                            "      <td>5</td>\n",
                            "    </tr>\n",
                            "  </tbody>\n",
                            "</table>\n",
                            "</div>"
                        ],
                        "text/plain": [
                            "   fixed acidity  volatile acidity  citric acid  residual sugar  chlorides  \\\n",
                            "0            7.4              0.70         0.00             1.9      0.076   \n",
                            "1            7.8              0.88         0.00             2.6      0.098   \n",
                            "2            7.8              0.76         0.04             2.3      0.092   \n",
                            "\n",
                            "   free sulfur dioxide  total sulfur dioxide  density    pH  sulphates  \\\n",
                            "0                 11.0                  34.0   0.9978  3.51       0.56   \n",
                            "1                 25.0                  67.0   0.9968  3.20       0.68   \n",
                            "2                 15.0                  54.0   0.9970  3.26       0.65   \n",
                            "\n",
                            "   alcohol  quality  \n",
                            "0      9.4        5  \n",
                            "1      9.8        5  \n",
                            "2      9.8        5  "
                        ]
                    },
                    "execution_count": 12,
                    "metadata": {},
                    "output_type": "execute_result"
                }
            ],
            "source": [
                "total_data = pd.read_csv(\"https://raw.githubusercontent.com/4GeeksAcademy/k-nearest-neighbors-project-tutorial/refs/heads/main/winequality-red.csv\", sep=\";\")\n",
                "\n",
                "total_data.head(3)"
            ]
        },
        {
            "cell_type": "markdown",
            "metadata": {},
            "source": [
                "### **Exploration and data cleaning**"
            ]
        },
        {
            "cell_type": "markdown",
            "metadata": {},
            "source": [
                "**Understanding the features**\n",
                "\n",
                "1- Columns describe its chemical composition:\n",
                "\n",
                "- fixed acidity, volatile acidity, citric acid\n",
                "- residual sugar, chlorides\n",
                "- free sulfur dioxide, total sulfur dioxide\n",
                "- density, pH, sulphates, alcohol\n",
                "\n",
                "2- Target column is quality:\n",
                "\n",
                "- Determine the quality of the wine. \n",
                "\n"
            ]
        },
        {
            "cell_type": "code",
            "execution_count": 13,
            "metadata": {},
            "outputs": [
                {
                    "name": "stdout",
                    "output_type": "stream",
                    "text": [
                        "<class 'pandas.core.frame.DataFrame'>\n",
                        "RangeIndex: 1599 entries, 0 to 1598\n",
                        "Data columns (total 12 columns):\n",
                        " #   Column                Non-Null Count  Dtype  \n",
                        "---  ------                --------------  -----  \n",
                        " 0   fixed acidity         1599 non-null   float64\n",
                        " 1   volatile acidity      1599 non-null   float64\n",
                        " 2   citric acid           1599 non-null   float64\n",
                        " 3   residual sugar        1599 non-null   float64\n",
                        " 4   chlorides             1599 non-null   float64\n",
                        " 5   free sulfur dioxide   1599 non-null   float64\n",
                        " 6   total sulfur dioxide  1599 non-null   float64\n",
                        " 7   density               1599 non-null   float64\n",
                        " 8   pH                    1599 non-null   float64\n",
                        " 9   sulphates             1599 non-null   float64\n",
                        " 10  alcohol               1599 non-null   float64\n",
                        " 11  quality               1599 non-null   int64  \n",
                        "dtypes: float64(11), int64(1)\n",
                        "memory usage: 150.0 KB\n"
                    ]
                }
            ],
            "source": [
                "total_data.info()"
            ]
        },
        {
            "cell_type": "markdown",
            "metadata": {},
            "source": [
                "Dataset Overview:\n",
                "\n",
                "- Shape: The dataset has 1599 rows (wines) and 12 columns (features + target).\n",
                "\n",
                "- Features:\n",
                "\n",
                "    There are 11 chemical composition features (e.g., acidity, sugar, alcohol).\n",
                "    \n",
                "    All features are numeric (float64), which is good because most ML models require numerical input.\n",
                "\n",
                "- Target:\n",
                "\n",
                "    The quality column is the label, stored as int64.\n",
                "\n",
                "    It represents the wine’s quality on a scale (later we will map it to Low/Medium/High).\n",
                "\n",
                "- Missing Values:\n",
                "\n",
                "    The dataset has no missing values (all Non-Null Count = 1599), so no cleaning is required for nulls."
            ]
        },
        {
            "cell_type": "markdown",
            "metadata": {},
            "source": [
                "**Processing Data**"
            ]
        },
        {
            "cell_type": "code",
            "execution_count": 21,
            "metadata": {},
            "outputs": [],
            "source": [
                "total_data[\"label\"] = pd.cut(\n",
                "    total_data[\"quality\"], bins=[0, 4, 6, 10], labels=[0, 1, 2]\n",
                ").astype(int)"
            ]
        },
        {
            "cell_type": "code",
            "execution_count": 16,
            "metadata": {},
            "outputs": [
                {
                    "data": {
                        "text/html": [
                            "<div>\n",
                            "<style scoped>\n",
                            "    .dataframe tbody tr th:only-of-type {\n",
                            "        vertical-align: middle;\n",
                            "    }\n",
                            "\n",
                            "    .dataframe tbody tr th {\n",
                            "        vertical-align: top;\n",
                            "    }\n",
                            "\n",
                            "    .dataframe thead th {\n",
                            "        text-align: right;\n",
                            "    }\n",
                            "</style>\n",
                            "<table border=\"1\" class=\"dataframe\">\n",
                            "  <thead>\n",
                            "    <tr style=\"text-align: right;\">\n",
                            "      <th></th>\n",
                            "      <th>fixed acidity</th>\n",
                            "      <th>volatile acidity</th>\n",
                            "      <th>citric acid</th>\n",
                            "      <th>residual sugar</th>\n",
                            "      <th>chlorides</th>\n",
                            "      <th>free sulfur dioxide</th>\n",
                            "      <th>total sulfur dioxide</th>\n",
                            "      <th>density</th>\n",
                            "      <th>pH</th>\n",
                            "      <th>sulphates</th>\n",
                            "      <th>alcohol</th>\n",
                            "      <th>quality</th>\n",
                            "      <th>label</th>\n",
                            "    </tr>\n",
                            "  </thead>\n",
                            "  <tbody>\n",
                            "    <tr>\n",
                            "      <th>0</th>\n",
                            "      <td>7.4</td>\n",
                            "      <td>0.70</td>\n",
                            "      <td>0.00</td>\n",
                            "      <td>1.9</td>\n",
                            "      <td>0.076</td>\n",
                            "      <td>11.0</td>\n",
                            "      <td>34.0</td>\n",
                            "      <td>0.9978</td>\n",
                            "      <td>3.51</td>\n",
                            "      <td>0.56</td>\n",
                            "      <td>9.4</td>\n",
                            "      <td>5</td>\n",
                            "      <td>1</td>\n",
                            "    </tr>\n",
                            "    <tr>\n",
                            "      <th>1</th>\n",
                            "      <td>7.8</td>\n",
                            "      <td>0.88</td>\n",
                            "      <td>0.00</td>\n",
                            "      <td>2.6</td>\n",
                            "      <td>0.098</td>\n",
                            "      <td>25.0</td>\n",
                            "      <td>67.0</td>\n",
                            "      <td>0.9968</td>\n",
                            "      <td>3.20</td>\n",
                            "      <td>0.68</td>\n",
                            "      <td>9.8</td>\n",
                            "      <td>5</td>\n",
                            "      <td>1</td>\n",
                            "    </tr>\n",
                            "    <tr>\n",
                            "      <th>2</th>\n",
                            "      <td>7.8</td>\n",
                            "      <td>0.76</td>\n",
                            "      <td>0.04</td>\n",
                            "      <td>2.3</td>\n",
                            "      <td>0.092</td>\n",
                            "      <td>15.0</td>\n",
                            "      <td>54.0</td>\n",
                            "      <td>0.9970</td>\n",
                            "      <td>3.26</td>\n",
                            "      <td>0.65</td>\n",
                            "      <td>9.8</td>\n",
                            "      <td>5</td>\n",
                            "      <td>1</td>\n",
                            "    </tr>\n",
                            "  </tbody>\n",
                            "</table>\n",
                            "</div>"
                        ],
                        "text/plain": [
                            "   fixed acidity  volatile acidity  citric acid  residual sugar  chlorides  \\\n",
                            "0            7.4              0.70         0.00             1.9      0.076   \n",
                            "1            7.8              0.88         0.00             2.6      0.098   \n",
                            "2            7.8              0.76         0.04             2.3      0.092   \n",
                            "\n",
                            "   free sulfur dioxide  total sulfur dioxide  density    pH  sulphates  \\\n",
                            "0                 11.0                  34.0   0.9978  3.51       0.56   \n",
                            "1                 25.0                  67.0   0.9968  3.20       0.68   \n",
                            "2                 15.0                  54.0   0.9970  3.26       0.65   \n",
                            "\n",
                            "   alcohol  quality  label  \n",
                            "0      9.4        5      1  \n",
                            "1      9.8        5      1  \n",
                            "2      9.8        5      1  "
                        ]
                    },
                    "execution_count": 16,
                    "metadata": {},
                    "output_type": "execute_result"
                }
            ],
            "source": [
                "total_data.head(3)"
            ]
        },
        {
            "cell_type": "markdown",
            "metadata": {},
            "source": [
                "In this step, we created a new column called label, which will serve as our target variable. Although it is derived from the existing quality column, we need to restructure the values into three distinct categories:\n",
                "\n",
                "0 → Low quality\n",
                "\n",
                "1 → Medium quality\n",
                "\n",
                "2 → High quality\n",
                "\n",
                "By converting the raw quality scores into labels, we simplify the prediction task and make it more suitable for classification algorithms such as K-Nearest Neighbors."
            ]
        },
        {
            "cell_type": "markdown",
            "metadata": {},
            "source": [
                "**Split in train and test**"
            ]
        },
        {
            "cell_type": "code",
            "execution_count": 23,
            "metadata": {},
            "outputs": [],
            "source": [
                "X = total_data.drop([\"quality\", \"label\"], axis=1)\n",
                "y = total_data[\"label\"]\n",
                "\n",
                "X_train, X_test, y_train, y_test = train_test_split(X, y, test_size=0.2, random_state=42)"
            ]
        },
        {
            "cell_type": "markdown",
            "metadata": {},
            "source": [
                "**Feature Scaling**"
            ]
        },
        {
            "cell_type": "code",
            "execution_count": 29,
            "metadata": {},
            "outputs": [
                {
                    "data": {
                        "text/html": [
                            "<div>\n",
                            "<style scoped>\n",
                            "    .dataframe tbody tr th:only-of-type {\n",
                            "        vertical-align: middle;\n",
                            "    }\n",
                            "\n",
                            "    .dataframe tbody tr th {\n",
                            "        vertical-align: top;\n",
                            "    }\n",
                            "\n",
                            "    .dataframe thead th {\n",
                            "        text-align: right;\n",
                            "    }\n",
                            "</style>\n",
                            "<table border=\"1\" class=\"dataframe\">\n",
                            "  <thead>\n",
                            "    <tr style=\"text-align: right;\">\n",
                            "      <th></th>\n",
                            "      <th>fixed acidity</th>\n",
                            "      <th>volatile acidity</th>\n",
                            "      <th>citric acid</th>\n",
                            "      <th>residual sugar</th>\n",
                            "      <th>chlorides</th>\n",
                            "      <th>free sulfur dioxide</th>\n",
                            "      <th>total sulfur dioxide</th>\n",
                            "      <th>density</th>\n",
                            "      <th>pH</th>\n",
                            "      <th>sulphates</th>\n",
                            "      <th>alcohol</th>\n",
                            "    </tr>\n",
                            "  </thead>\n",
                            "  <tbody>\n",
                            "    <tr>\n",
                            "      <th>493</th>\n",
                            "      <td>0.218332</td>\n",
                            "      <td>0.889712</td>\n",
                            "      <td>0.192092</td>\n",
                            "      <td>0.309726</td>\n",
                            "      <td>-0.049642</td>\n",
                            "      <td>0.691007</td>\n",
                            "      <td>1.042934</td>\n",
                            "      <td>1.846696</td>\n",
                            "      <td>1.093500</td>\n",
                            "      <td>0.458223</td>\n",
                            "      <td>1.123177</td>\n",
                            "    </tr>\n",
                            "    <tr>\n",
                            "      <th>354</th>\n",
                            "      <td>-1.290166</td>\n",
                            "      <td>-1.788783</td>\n",
                            "      <td>0.652753</td>\n",
                            "      <td>-0.805080</td>\n",
                            "      <td>-0.455214</td>\n",
                            "      <td>2.388473</td>\n",
                            "      <td>3.593870</td>\n",
                            "      <td>-3.004491</td>\n",
                            "      <td>-0.400439</td>\n",
                            "      <td>-0.401197</td>\n",
                            "      <td>1.408272</td>\n",
                            "    </tr>\n",
                            "    <tr>\n",
                            "      <th>342</th>\n",
                            "      <td>1.494753</td>\n",
                            "      <td>-0.784347</td>\n",
                            "      <td>1.011045</td>\n",
                            "      <td>-0.526378</td>\n",
                            "      <td>0.599272</td>\n",
                            "      <td>-0.957960</td>\n",
                            "      <td>-0.991742</td>\n",
                            "      <td>0.768655</td>\n",
                            "      <td>-0.075669</td>\n",
                            "      <td>0.515517</td>\n",
                            "      <td>-0.587390</td>\n",
                            "    </tr>\n",
                            "  </tbody>\n",
                            "</table>\n",
                            "</div>"
                        ],
                        "text/plain": [
                            "     fixed acidity  volatile acidity  citric acid  residual sugar  chlorides  \\\n",
                            "493       0.218332          0.889712     0.192092        0.309726  -0.049642   \n",
                            "354      -1.290166         -1.788783     0.652753       -0.805080  -0.455214   \n",
                            "342       1.494753         -0.784347     1.011045       -0.526378   0.599272   \n",
                            "\n",
                            "     free sulfur dioxide  total sulfur dioxide   density        pH  sulphates  \\\n",
                            "493             0.691007              1.042934  1.846696  1.093500   0.458223   \n",
                            "354             2.388473              3.593870 -3.004491 -0.400439  -0.401197   \n",
                            "342            -0.957960             -0.991742  0.768655 -0.075669   0.515517   \n",
                            "\n",
                            "      alcohol  \n",
                            "493  1.123177  \n",
                            "354  1.408272  \n",
                            "342 -0.587390  "
                        ]
                    },
                    "execution_count": 29,
                    "metadata": {},
                    "output_type": "execute_result"
                }
            ],
            "source": [
                "# Standardization with StandardScaler\n",
                "scaler = StandardScaler()\n",
                "scaler.fit(X_train)\n",
                "\n",
                "\n",
                "X_train_scaled = pd.DataFrame(\n",
                "    scaler.transform(X_train),\n",
                "    index=X_train.index,\n",
                "    columns=X_train.columns\n",
                ")\n",
                "\n",
                "X_test_scaled = pd.DataFrame(\n",
                "    scaler.transform(X_test),\n",
                "    index=X_test.index,\n",
                "    columns=X_test.columns\n",
                ")\n",
                "\n",
                "X_train_scaled.head(3)"
            ]
        },
        {
            "cell_type": "markdown",
            "metadata": {},
            "source": [
                "**Save the clean and raw data**"
            ]
        },
        {
            "cell_type": "code",
            "execution_count": 32,
            "metadata": {},
            "outputs": [],
            "source": [
                "dataframes = {\n",
                "    \"X_train\": X_train,\n",
                "    \"X_test\": X_test,\n",
                "    \"X_train_scaled\": X_train_scaled,\n",
                "    \"X_test_scaled\": X_test_scaled,\n",
                "    \"y_train\": y_train,\n",
                "    \"y_test\": y_test,\n",
                "    }\n",
                "\n",
                "# Base path to save the files\n",
                "save_path = \"../data/processed/\"\n",
                "\n",
                "# Save the DataFrames in CSV\n",
                "for name, df in dataframes.items():\n",
                "    df.to_csv(f\"{save_path}{name}.csv\", index=False)\n",
                "\n",
                "# Save the Scaler to pickle\n",
                "with open(\"../models/scaler.pkl\", \"wb\") as f:\n",
                "    pickle.dump(scaler, f)"
            ]
        },
        {
            "cell_type": "markdown",
            "metadata": {},
            "source": [
                "#### **KNN Model**"
            ]
        },
        {
            "cell_type": "code",
            "execution_count": 34,
            "metadata": {},
            "outputs": [
                {
                    "name": "stdout",
                    "output_type": "stream",
                    "text": [
                        "Accuracy by dataset: {'X_train': 0.815625, 'X_train_scaled': 0.84375}\n",
                        "Best dataset: X_train_scaled with accuracy = 0.8438\n"
                    ]
                }
            ],
            "source": [
                "# Define dataset pairs \n",
                "dataset_pairs = {\n",
                "    \"X_train\": (X_train, X_test),\n",
                "    \"X_train_scaled\": (X_train_scaled, X_test_scaled)\n",
                "}\n",
                "\n",
                "results = {\n",
                "    name: accuracy_score(\n",
                "        y_test,\n",
                "        KNeighborsClassifier(n_neighbors=5)\n",
                "        .fit(X_train, y_train)\n",
                "        .predict(X_test)\n",
                "    )\n",
                "    for name, (X_train, X_test) in dataset_pairs.items()\n",
                "}\n",
                "\n",
                "best_dataset = max(results, key=results.get)\n",
                "\n",
                "print(f\"Accuracy by dataset: {results}\")\n",
                "print(f\"Best dataset: {best_dataset} with accuracy = {results[best_dataset]:.4f}\")\n"
            ]
        },
        {
            "cell_type": "code",
            "execution_count": 35,
            "metadata": {},
            "outputs": [
                {
                    "name": "stdout",
                    "output_type": "stream",
                    "text": [
                        "Inicial Accuracy: 0.84375\n"
                    ]
                }
            ],
            "source": [
                "X_train_final, X_test_final = dataset_pairs[best_dataset]\n",
                "\n",
                "# Train the model with the best dataset\n",
                "final_model = KNeighborsClassifier(n_neighbors=5)\n",
                "\n",
                "final_model.fit(X_train_final, y_train)\n",
                "\n",
                "# Evaluate the model\n",
                "y_pred_final = final_model.predict(X_test_final)\n",
                "\n",
                "print(\"Inicial Accuracy:\", accuracy_score(y_test, y_pred_final))"
            ]
        },
        {
            "cell_type": "markdown",
            "metadata": {},
            "source": [
                "**Evaluation and Predictions**"
            ]
        },
        {
            "cell_type": "code",
            "execution_count": 50,
            "metadata": {},
            "outputs": [
                {
                    "data": {
                        "image/png": "[encoded data removed]",
                        "text/plain": [
                            "<Figure size 400x300 with 2 Axes>"
                        ]
                    },
                    "metadata": {},
                    "output_type": "display_data"
                },
                {
                    "name": "stdout",
                    "output_type": "stream",
                    "text": [
                        "Accuracy: 84.38%\n",
                        "\n",
                        "Classification Report:\n",
                        "               precision    recall  f1-score   support\n",
                        "\n",
                        "           0       0.00      0.00      0.00        11\n",
                        "           1       0.87      0.95      0.91       262\n",
                        "           2       0.65      0.43      0.51        47\n",
                        "\n",
                        "    accuracy                           0.84       320\n",
                        "   macro avg       0.50      0.46      0.47       320\n",
                        "weighted avg       0.81      0.84      0.82       320\n",
                        "\n"
                    ]
                }
            ],
            "source": [
                "y_pred_test = final_model.predict(X_test_final)\n",
                "\n",
                "# Accuracy y classification report\n",
                "test_accuracy = accuracy_score(y_test, y_pred_test)\n",
                "cm = confusion_matrix(y_test, y_pred_final)\n",
                "\n",
                "classes = [\"Low Quality\", \"Medium Quality\", \"High Quality\"]\n",
                "\n",
                "plt.figure(figsize=(4,3))\n",
                "sns.heatmap(cm, annot=True, fmt='d', cmap='Blues', xticklabels=classes, yticklabels=classes)\n",
                "plt.xlabel(\"Predicted\")\n",
                "plt.ylabel(\"Actual\")\n",
                "plt.title(\"Confusion Matrix\")\n",
                "plt.show()\n",
                "\n",
                "classification_rep = classification_report(y_test, y_pred_final)\n",
                "\n",
                "print(f\"Accuracy: {test_accuracy*100:.2f}%\")\n",
                "print(\"\\nClassification Report:\\n\", classification_rep)\n"
            ]
        },
        {
            "cell_type": "markdown",
            "metadata": {},
            "source": [
                "The KNN model achieved an overall accuracy of 84.38% on the test set. It performs very well in predicting the medium-quality wines, which are the majority class, but struggles with the low- and high-quality wines, likely due to class imbalance. While the overall performance is strong, improvements could be made for the minority classes to enhance the model’s robustness across all wine quality levels."
            ]
        },
        {
            "cell_type": "markdown",
            "metadata": {},
            "source": [
                "**Optimize k.**"
            ]
        },
        {
            "cell_type": "code",
            "execution_count": 66,
            "metadata": {},
            "outputs": [
                {
                    "name": "stdout",
                    "output_type": "stream",
                    "text": [
                        "Best k: 4 with accuracy = 0.8219\n"
                    ]
                }
            ],
            "source": [
                "k_results = {k: accuracy_score(y_test, KNeighborsClassifier(n_neighbors=k).fit(X_train, y_train).predict(X_test)) \n",
                "             for k in range(1, 11)}\n",
                "\n",
                "best_k = max(k_results, key=k_results.get)\n",
                "print(f\"Best k: {best_k} with accuracy = {k_results[best_k]:.4f}\")\n"
            ]
        },
        {
            "cell_type": "code",
            "execution_count": 63,
            "metadata": {},
            "outputs": [
                {
                    "name": "stdout",
                    "output_type": "stream",
                    "text": [
                        "Final Accuracy with the best n_neighbors: 0.85\n"
                    ]
                }
            ],
            "source": [
                "# Train the model with the best n_neighbors\n",
                "best_model = KNeighborsClassifier(n_neighbors=4)\n",
                "\n",
                "best_model.fit(X_train_final, y_train)\n",
                "\n",
                "# Evaluate the model\n",
                "y_pred_final = best_model.predict(X_test_final)\n",
                "\n",
                "print(\"Final Accuracy with the best n_neighbors:\", accuracy_score(y_test, y_pred_final))"
            ]
        },
        {
            "cell_type": "markdown",
            "metadata": {},
            "source": [
                "**Save the model**"
            ]
        },
        {
            "cell_type": "code",
            "execution_count": 64,
            "metadata": {},
            "outputs": [],
            "source": [
                "# Save the trained model\n",
                "with open(\"../models/KNN_model.sav\", \"wb\") as f:\n",
                "    pickle.dump(best_model, f)"
            ]
        }
    ],
    "metadata": {
        "kernelspec": {
            "display_name": "Python 3",
            "language": "python",
            "name": "python3"
        },
        "language_info": {
            "codemirror_mode": {
                "name": "ipython",
                "version": 3
            },
            "file_extension": ".py",
            "mimetype": "text/x-python",
            "name": "python",
            "nbconvert_exporter": "python",
            "pygments_lexer": "ipython3",
            "version": "3.11.4"
        },
        "orig_nbformat": 4
    },
    "nbformat": 4,
    "nbformat_minor": 2
}
